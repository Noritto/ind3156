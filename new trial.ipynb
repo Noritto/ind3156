{
 "cells": [
  {
   "cell_type": "markdown",
   "metadata": {},
   "source": [
    "Trying out the jupyter notebook on my new computer"
   ]
  },
  {
   "cell_type": "markdown",
   "metadata": {},
   "source": [
    "fair coin vs unfair coin\n"
   ]
  },
  {
   "cell_type": "code",
   "execution_count": 4,
   "metadata": {},
   "outputs": [
    {
     "ename": "SyntaxError",
     "evalue": "Missing parentheses in call to 'print'. Did you mean print(\"Data of the Experiment:\", experiment)? (<ipython-input-4-d44ac3985913>, line 9)",
     "output_type": "error",
     "traceback": [
      "\u001b[0;36m  File \u001b[0;32m\"<ipython-input-4-d44ac3985913>\"\u001b[0;36m, line \u001b[0;32m9\u001b[0m\n\u001b[0;31m    print \"Data of the Experiment:\", experiment\u001b[0m\n\u001b[0m                                  ^\u001b[0m\n\u001b[0;31mSyntaxError\u001b[0m\u001b[0;31m:\u001b[0m Missing parentheses in call to 'print'. Did you mean print(\"Data of the Experiment:\", experiment)?\n"
     ]
    }
   ],
   "source": [
    "import numpy as np\n",
    "  \n",
    "total_tosses = 30\n",
    "num_heads = 24\n",
    "prob_head = 0.5\n",
    "\n",
    "#0 is tail. 1 is heads. Generate one experiment\n",
    "experiment = np.random.randint(0,2,total_tosses)\n",
    "print \"Data of the Experiment:\", experiment\n",
    "#Find the number of heads\n",
    "print \"Heads in the Experiment:\", experiment[experiment==1]  #This will give all the heads in the array\n",
    "head_count = experiment[experiment==1].shape[0] #This will get the count of heads in the array\n",
    "print \"Number of heads in the experiment:\", head_count\n",
    "\n",
    "def coin_toss_experiment(times_to_repeat):\n",
    "\n",
    "    head_count = np.empty([times_to_repeat,1], dtype=int)\n",
    "\n",
    "    for times in np.arange(times_to_repeat):\n",
    "        experiment = np.random.randint(0,2,total_tosses)\n",
    "        head_count[times] = experiment[experiment==1].shape[0]\n",
    "\n",
    "    return head_count\n",
    "head_count = coin_toss_experiment(100)\n",
    "head_count[:10]\n",
    "\n",
    "print \"Dimensions:\", head_count.shape, \"\\n\",\"Type of object:\", type(head_count)"
   ]
  },
  {
   "cell_type": "markdown",
   "metadata": {},
   "source": [
    "The output from notebook is\n",
    "  File \"<ipython-input-2-8b7462bc4f96>\", line 11\n",
    "    print \"Heads in the Experiment:\", experiment[experiment==1]  #This will give all the heads in the array\n",
    "                                   ^\n",
    "SyntaxError: Missing parentheses in call to 'print'. Did you mean print(\"Heads in the Experiment:\", experiment[experiment==1]  #This will give all the heads in the array)?\n",
    "\n",
    "File \"<ipython-input-3-f17bfae0ed77>\", line 12\n",
    "    head_count = experiment[experiment==1].shape[0])\n",
    "             ^\n",
    "SyntaxError: invalid syntax"
   ]
  },
  {
   "cell_type": "markdown",
   "metadata": {},
   "source": [
    "on my computer the output is the following:\n"
   ]
  },
  {
   "cell_type": "markdown",
   "metadata": {},
   "source": [
    "Data of the Experiment: [1 0 0 1 0 0 0 1 0 0 0 0 1 1 1 1 1 1 1 0 0 1 1 0 0 1 0 1 0 1]\n",
    "Heads in the Experiment: [1 1 1 1 1 1 1 1 1 1 1 1 1 1 1]\n",
    "Number of heads in the experiment: 15\n",
    "Dimensions: (100, 1) "
   ]
  }
 ],
 "metadata": {
  "kernelspec": {
   "display_name": "Python 3",
   "language": "python",
   "name": "python3"
  },
  "language_info": {
   "codemirror_mode": {
    "name": "ipython",
    "version": 3
   },
   "file_extension": ".py",
   "mimetype": "text/x-python",
   "name": "python",
   "nbconvert_exporter": "python",
   "pygments_lexer": "ipython3",
   "version": "3.7.0"
  }
 },
 "nbformat": 4,
 "nbformat_minor": 2
}
